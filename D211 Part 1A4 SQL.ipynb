{
 "cells": [
  {
   "cell_type": "markdown",
   "id": "c58a952c",
   "metadata": {},
   "source": [
    "Install Library\n",
    "!pip3 install ipython-sql"
   ]
  },
  {
   "cell_type": "code",
   "execution_count": 1,
   "id": "ab903619",
   "metadata": {},
   "outputs": [],
   "source": [
    "import pandas as pd\n",
    "import sqlite3\n",
    "import sql"
   ]
  },
  {
   "cell_type": "code",
   "execution_count": 2,
   "id": "3d2a2fd8",
   "metadata": {},
   "outputs": [],
   "source": [
    "cnn = sqlite3.connect('connect_sql_jupyter.db')"
   ]
  },
  {
   "cell_type": "code",
   "execution_count": 3,
   "id": "d8513dbb",
   "metadata": {},
   "outputs": [],
   "source": [
    "%load_ext sql"
   ]
  },
  {
   "cell_type": "code",
   "execution_count": 4,
   "id": "ba9fad6e",
   "metadata": {},
   "outputs": [],
   "source": [
    "%sql sqlite:///connect_sql_jupyter.db"
   ]
  },
  {
   "cell_type": "markdown",
   "id": "bbc2de1d",
   "metadata": {},
   "source": [
    "# Data Preparation"
   ]
  },
  {
   "cell_type": "code",
   "execution_count": 5,
   "id": "33e6f481",
   "metadata": {},
   "outputs": [],
   "source": [
    "contract = pd.read_csv('contract_db.csv')\n",
    "customer = pd.read_csv('customer_db.csv')\n",
    "job = pd.read_csv('job_db.csv')\n",
    "location = pd.read_csv('location_db.csv')\n",
    "payment = pd.read_csv('payment_db.csv')"
   ]
  },
  {
   "cell_type": "code",
   "execution_count": 6,
   "id": "8afb87e5",
   "metadata": {
    "scrolled": false
   },
   "outputs": [
    {
     "name": "stdout",
     "output_type": "stream",
     "text": [
      "contract_id    0\n",
      "duration       0\n",
      "dtype: int64\n"
     ]
    }
   ],
   "source": [
    "print(contract.isna().sum())"
   ]
  },
  {
   "cell_type": "code",
   "execution_count": 7,
   "id": "330d22b5",
   "metadata": {},
   "outputs": [
    {
     "name": "stdout",
     "output_type": "stream",
     "text": [
      "customer_id            0\n",
      "lat                    0\n",
      "lng                    0\n",
      "population             0\n",
      "children               0\n",
      "age                    0\n",
      "income                 0\n",
      "marital                0\n",
      "churn                  0\n",
      "gender                 0\n",
      "tenure                 0\n",
      "monthly_charge         0\n",
      "bandwidth_gp_year      0\n",
      "outage_sec_week        0\n",
      "email                  0\n",
      "contacts               0\n",
      "yearly_equip_faiure    0\n",
      "techie                 0\n",
      "port_modem             0\n",
      "tablet                 0\n",
      "job_id                 0\n",
      "payment_id             0\n",
      "contract_id            0\n",
      "location_id            0\n",
      "dtype: int64\n"
     ]
    }
   ],
   "source": [
    "print(customer.isna().sum())"
   ]
  },
  {
   "cell_type": "code",
   "execution_count": 8,
   "id": "a0c74754",
   "metadata": {},
   "outputs": [
    {
     "name": "stdout",
     "output_type": "stream",
     "text": [
      "location_id    0\n",
      "zip            0\n",
      "city           0\n",
      "state          0\n",
      "county         0\n",
      "dtype: int64\n"
     ]
    }
   ],
   "source": [
    "print(location.isna().sum())"
   ]
  },
  {
   "cell_type": "code",
   "execution_count": 9,
   "id": "4f71c8c1",
   "metadata": {},
   "outputs": [
    {
     "name": "stdout",
     "output_type": "stream",
     "text": [
      "job_id       0\n",
      "job_title    0\n",
      "dtype: int64\n"
     ]
    }
   ],
   "source": [
    "print(job.isna().sum())"
   ]
  },
  {
   "cell_type": "code",
   "execution_count": 10,
   "id": "fe0a27e4",
   "metadata": {},
   "outputs": [
    {
     "name": "stdout",
     "output_type": "stream",
     "text": [
      "payment_id      0\n",
      "payment_type    0\n",
      "dtype: int64\n"
     ]
    }
   ],
   "source": [
    "print(payment.isna().sum())"
   ]
  },
  {
   "cell_type": "markdown",
   "id": "081712b1",
   "metadata": {},
   "source": [
    "# Database Creation and Data Alignment"
   ]
  },
  {
   "cell_type": "code",
   "execution_count": 11,
   "id": "02d6818c",
   "metadata": {},
   "outputs": [],
   "source": [
    "#Import Tables into SQL Lite for Database Creation. \n",
    "#These tables were exported from PGAdmin which had the Data Alignment fixed beforehand\n",
    "\n",
    "contract.to_sql('contract', cnn, index=False)\n",
    "customer.to_sql('customer', cnn, index=False)\n",
    "location.to_sql('location', cnn, index=False)\n",
    "job.to_sql('job', cnn, index=False)\n",
    "payment.to_sql('payment', cnn, index=False)"
   ]
  },
  {
   "cell_type": "markdown",
   "id": "80a83147",
   "metadata": {},
   "source": [
    "# SQL"
   ]
  },
  {
   "cell_type": "code",
   "execution_count": 12,
   "id": "1b59cc55",
   "metadata": {},
   "outputs": [
    {
     "name": "stdout",
     "output_type": "stream",
     "text": [
      " * sqlite:///connect_sql_jupyter.db\n",
      "Done.\n"
     ]
    },
    {
     "data": {
      "text/html": [
       "<table>\n",
       "    <tr>\n",
       "        <th>contract_id</th>\n",
       "        <th>duration</th>\n",
       "    </tr>\n",
       "    <tr>\n",
       "        <td>1</td>\n",
       "        <td>Month-to-month</td>\n",
       "    </tr>\n",
       "    <tr>\n",
       "        <td>2</td>\n",
       "        <td>One year</td>\n",
       "    </tr>\n",
       "    <tr>\n",
       "        <td>3</td>\n",
       "        <td>Two Year</td>\n",
       "    </tr>\n",
       "</table>"
      ],
      "text/plain": [
       "[(1, 'Month-to-month'), (2, 'One year'), (3, 'Two Year')]"
      ]
     },
     "execution_count": 12,
     "metadata": {},
     "output_type": "execute_result"
    }
   ],
   "source": [
    "%%sql\n",
    "SELECT *\n",
    "FROM contract\n",
    "LIMIT 5;"
   ]
  },
  {
   "cell_type": "markdown",
   "id": "cba5b1da",
   "metadata": {},
   "source": [
    "# SQL Scripts to Enforce Referential Integrity"
   ]
  },
  {
   "cell_type": "code",
   "execution_count": 13,
   "id": "0fd68ace",
   "metadata": {
    "scrolled": true
   },
   "outputs": [
    {
     "name": "stdout",
     "output_type": "stream",
     "text": [
      " * sqlite:///connect_sql_jupyter.db\n",
      "Done.\n",
      "Done.\n",
      "3 rows affected.\n",
      "Done.\n"
     ]
    },
    {
     "data": {
      "text/plain": [
       "[]"
      ]
     },
     "execution_count": 13,
     "metadata": {},
     "output_type": "execute_result"
    }
   ],
   "source": [
    "%%sql\n",
    "\n",
    "ALTER TABLE contract RENAME TO old_contract;\n",
    "\n",
    "CREATE TABLE contract\n",
    "(\n",
    "  contract_id datatype [ NULL | NOT NULL ],\n",
    "  duration datatype [ NULL | NOT NULL ],\n",
    "  CONSTRAINT contract_pkey PRIMARY KEY (contract_id)\n",
    ");\n",
    "\n",
    "INSERT INTO contract SELECT * FROM old_contract;\n",
    "\n",
    "DROP TABLE old_contract;"
   ]
  },
  {
   "cell_type": "code",
   "execution_count": 14,
   "id": "952b9994",
   "metadata": {},
   "outputs": [],
   "source": [
    "#Commit change into the database\n",
    "cnn.commit()"
   ]
  },
  {
   "cell_type": "code",
   "execution_count": 15,
   "id": "ac509ec7",
   "metadata": {},
   "outputs": [
    {
     "name": "stdout",
     "output_type": "stream",
     "text": [
      " * sqlite:///connect_sql_jupyter.db\n",
      "Done.\n"
     ]
    },
    {
     "data": {
      "text/html": [
       "<table>\n",
       "    <tr>\n",
       "        <th>contract_id</th>\n",
       "        <th>duration</th>\n",
       "    </tr>\n",
       "    <tr>\n",
       "        <td>1</td>\n",
       "        <td>Month-to-month</td>\n",
       "    </tr>\n",
       "    <tr>\n",
       "        <td>2</td>\n",
       "        <td>One year</td>\n",
       "    </tr>\n",
       "    <tr>\n",
       "        <td>3</td>\n",
       "        <td>Two Year</td>\n",
       "    </tr>\n",
       "</table>"
      ],
      "text/plain": [
       "[(1, 'Month-to-month'), (2, 'One year'), (3, 'Two Year')]"
      ]
     },
     "execution_count": 15,
     "metadata": {},
     "output_type": "execute_result"
    }
   ],
   "source": [
    "%%sql\n",
    "\n",
    "SELECT *\n",
    "FROM contract\n",
    "LIMIT 5;"
   ]
  },
  {
   "cell_type": "code",
   "execution_count": 16,
   "id": "60012b73",
   "metadata": {},
   "outputs": [
    {
     "name": "stdout",
     "output_type": "stream",
     "text": [
      " * sqlite:///connect_sql_jupyter.db\n",
      "Done.\n",
      "Done.\n",
      "10000 rows affected.\n",
      "Done.\n"
     ]
    },
    {
     "data": {
      "text/plain": [
       "[]"
      ]
     },
     "execution_count": 16,
     "metadata": {},
     "output_type": "execute_result"
    }
   ],
   "source": [
    "\n",
    "%%sql\n",
    "\n",
    "ALTER TABLE customer RENAME TO old_customer;\n",
    "\n",
    "CREATE TABLE customer\n",
    "(\n",
    "  customer_id [ NULL | NOT NULL ] COLLATE NOCASE NOT NULL,\n",
    "    lat datatype [ NULL | NOT NULL ],\n",
    "    lng datatype [ NULL | NOT NULL ],\n",
    "    population datatype [ NULL | NOT NULL ],\n",
    "    children datatype [ NULL | NOT NULL ],\n",
    "    age datatype [ NULL | NOT NULL ],\n",
    "    income datatype [ NULL | NOT NULL ],\n",
    "    marital datatype [ NULL | NOT NULL ] COLLATE NOCASE,\n",
    "    churn datatype [ NULL | NOT NULL ] COLLATE NOCASE,\n",
    "    gender datatype [ NULL | NOT NULL ] COLLATE NOCASE,\n",
    "    tenure datatype [ NULL | NOT NULL ],\n",
    "    monthly_charge datatype [ NULL | NOT NULL ],\n",
    "    bandwidth_gp_year datatype [ NULL | NOT NULL ],\n",
    "    outage_sec_week datatype [ NULL | NOT NULL ],\n",
    "    email datatype [ NULL | NOT NULL ],\n",
    "    contacts datatype [ NULL | NOT NULL ],\n",
    "    yearly_equip_faiure datatype [ NULL | NOT NULL ],\n",
    "    techie datatype [ NULL | NOT NULL ] COLLATE NOCASE,\n",
    "    port_modem datatype [ NULL | NOT NULL ] COLLATE NOCASE,\n",
    "    tablet datatype [ NULL | NOT NULL ] COLLATE NOCASE,\n",
    "    job_id datatype [ NULL | NOT NULL ],\n",
    "    payment_id datatype [ NULL | NOT NULL ],\n",
    "    contract_id datatype [ NULL | NOT NULL ],\n",
    "    location_id datatype [ NULL | NOT NULL ],\n",
    "    CONSTRAINT customer_pkey PRIMARY KEY (customer_id),\n",
    "    CONSTRAINT customer_contract_id_fkey FOREIGN KEY (contract_id)\n",
    "        REFERENCES contract (contract_id) MATCH SIMPLE\n",
    "        ON UPDATE NO ACTION\n",
    "        ON DELETE NO ACTION,\n",
    "    CONSTRAINT customer_job_id_fkey FOREIGN KEY (job_id)\n",
    "        REFERENCES job (job_id) MATCH SIMPLE\n",
    "        ON UPDATE NO ACTION\n",
    "        ON DELETE NO ACTION,\n",
    "    CONSTRAINT customer_location_id_fkey FOREIGN KEY (location_id)\n",
    "        REFERENCES location (location_id) MATCH SIMPLE\n",
    "        ON UPDATE NO ACTION\n",
    "        ON DELETE NO ACTION,\n",
    "    CONSTRAINT customer_payment_id_fkey FOREIGN KEY (payment_id)\n",
    "        REFERENCES payment (payment_id) MATCH SIMPLE\n",
    "        ON UPDATE NO ACTION\n",
    "        ON DELETE NO ACTION\n",
    ");\n",
    "\n",
    "INSERT INTO customer SELECT * FROM old_customer;\n",
    "\n",
    "DROP TABLE old_customer;"
   ]
  },
  {
   "cell_type": "code",
   "execution_count": 17,
   "id": "5f5a6346",
   "metadata": {},
   "outputs": [],
   "source": [
    "cnn.commit()"
   ]
  },
  {
   "cell_type": "code",
   "execution_count": 18,
   "id": "38000e1b",
   "metadata": {},
   "outputs": [
    {
     "name": "stdout",
     "output_type": "stream",
     "text": [
      " * sqlite:///connect_sql_jupyter.db\n",
      "Done.\n"
     ]
    },
    {
     "data": {
      "text/html": [
       "<table>\n",
       "    <tr>\n",
       "        <th>customer_id</th>\n",
       "        <th>lat</th>\n",
       "        <th>lng</th>\n",
       "        <th>population</th>\n",
       "        <th>children</th>\n",
       "        <th>age</th>\n",
       "        <th>income</th>\n",
       "        <th>marital</th>\n",
       "        <th>churn</th>\n",
       "        <th>gender</th>\n",
       "        <th>tenure</th>\n",
       "        <th>monthly_charge</th>\n",
       "        <th>bandwidth_gp_year</th>\n",
       "        <th>outage_sec_week</th>\n",
       "        <th>email</th>\n",
       "        <th>contacts</th>\n",
       "        <th>yearly_equip_faiure</th>\n",
       "        <th>techie</th>\n",
       "        <th>port_modem</th>\n",
       "        <th>tablet</th>\n",
       "        <th>job_id</th>\n",
       "        <th>payment_id</th>\n",
       "        <th>contract_id</th>\n",
       "        <th>location_id</th>\n",
       "    </tr>\n",
       "    <tr>\n",
       "        <td>K409198</td>\n",
       "        <td>56.251</td>\n",
       "        <td>-133.37571</td>\n",
       "        <td>38</td>\n",
       "        <td>0</td>\n",
       "        <td>68</td>\n",
       "        <td>28561.99</td>\n",
       "        <td>Widowed</td>\n",
       "        <td>No</td>\n",
       "        <td>Male</td>\n",
       "        <td>6.795512947</td>\n",
       "        <td>172.455519</td>\n",
       "        <td>904.5361102</td>\n",
       "        <td>7.978322947</td>\n",
       "        <td>10</td>\n",
       "        <td>0</td>\n",
       "        <td>1</td>\n",
       "        <td>No</td>\n",
       "        <td>Yes</td>\n",
       "        <td>Yes</td>\n",
       "        <td>229</td>\n",
       "        <td>2</td>\n",
       "        <td>2</td>\n",
       "        <td>5599</td>\n",
       "    </tr>\n",
       "    <tr>\n",
       "        <td>S120509</td>\n",
       "        <td>44.32893</td>\n",
       "        <td>-84.2408</td>\n",
       "        <td>10446</td>\n",
       "        <td>1</td>\n",
       "        <td>27</td>\n",
       "        <td>21704.77</td>\n",
       "        <td>Married</td>\n",
       "        <td>Yes</td>\n",
       "        <td>Female</td>\n",
       "        <td>1.156680997</td>\n",
       "        <td>242.632554</td>\n",
       "        <td>800.9827661</td>\n",
       "        <td>11.69907956</td>\n",
       "        <td>12</td>\n",
       "        <td>0</td>\n",
       "        <td>1</td>\n",
       "        <td>Yes</td>\n",
       "        <td>No</td>\n",
       "        <td>Yes</td>\n",
       "        <td>468</td>\n",
       "        <td>1</td>\n",
       "        <td>1</td>\n",
       "        <td>2737</td>\n",
       "    </tr>\n",
       "    <tr>\n",
       "        <td>K191035</td>\n",
       "        <td>45.35589</td>\n",
       "        <td>-123.24657</td>\n",
       "        <td>3735</td>\n",
       "        <td>4</td>\n",
       "        <td>50</td>\n",
       "        <td>9609.57</td>\n",
       "        <td>Widowed</td>\n",
       "        <td>No</td>\n",
       "        <td>Female</td>\n",
       "        <td>15.75414408</td>\n",
       "        <td>159.947583</td>\n",
       "        <td>2054.706961</td>\n",
       "        <td>10.75280028</td>\n",
       "        <td>9</td>\n",
       "        <td>0</td>\n",
       "        <td>1</td>\n",
       "        <td>Yes</td>\n",
       "        <td>Yes</td>\n",
       "        <td>No</td>\n",
       "        <td>96</td>\n",
       "        <td>2</td>\n",
       "        <td>3</td>\n",
       "        <td>1297</td>\n",
       "    </tr>\n",
       "    <tr>\n",
       "        <td>D90850</td>\n",
       "        <td>32.96687</td>\n",
       "        <td>-117.24798</td>\n",
       "        <td>13863</td>\n",
       "        <td>1</td>\n",
       "        <td>48</td>\n",
       "        <td>18925.23</td>\n",
       "        <td>Married</td>\n",
       "        <td>No</td>\n",
       "        <td>Male</td>\n",
       "        <td>17.08722662</td>\n",
       "        <td>119.95684</td>\n",
       "        <td>2164.579412</td>\n",
       "        <td>14.91353964</td>\n",
       "        <td>15</td>\n",
       "        <td>2</td>\n",
       "        <td>0</td>\n",
       "        <td>Yes</td>\n",
       "        <td>No</td>\n",
       "        <td>No</td>\n",
       "        <td>552</td>\n",
       "        <td>4</td>\n",
       "        <td>3</td>\n",
       "        <td>5181</td>\n",
       "    </tr>\n",
       "    <tr>\n",
       "        <td>K662701</td>\n",
       "        <td>29.38012</td>\n",
       "        <td>-95.80673</td>\n",
       "        <td>11352</td>\n",
       "        <td>0</td>\n",
       "        <td>83</td>\n",
       "        <td>40074.19</td>\n",
       "        <td>Separated</td>\n",
       "        <td>Yes</td>\n",
       "        <td>Male</td>\n",
       "        <td>1.670971726</td>\n",
       "        <td>149.948316</td>\n",
       "        <td>271.4934362</td>\n",
       "        <td>8.147416533</td>\n",
       "        <td>16</td>\n",
       "        <td>2</td>\n",
       "        <td>1</td>\n",
       "        <td>No</td>\n",
       "        <td>Yes</td>\n",
       "        <td>No</td>\n",
       "        <td>371</td>\n",
       "        <td>4</td>\n",
       "        <td>1</td>\n",
       "        <td>30</td>\n",
       "    </tr>\n",
       "</table>"
      ],
      "text/plain": [
       "[('K409198', 56.251, -133.37571, 38, 0, 68, 28561.99, 'Widowed', 'No', 'Male', 6.795512947, 172.455519, 904.5361102, 7.978322947, 10, 0, 1, 'No', 'Yes', 'Yes', 229, 2, 2, 5599),\n",
       " ('S120509', 44.32893, -84.2408, 10446, 1, 27, 21704.77, 'Married', 'Yes', 'Female', 1.156680997, 242.632554, 800.9827661, 11.69907956, 12, 0, 1, 'Yes', 'No', 'Yes', 468, 1, 1, 2737),\n",
       " ('K191035', 45.35589, -123.24657, 3735, 4, 50, 9609.57, 'Widowed', 'No', 'Female', 15.75414408, 159.947583, 2054.706961, 10.75280028, 9, 0, 1, 'Yes', 'Yes', 'No', 96, 2, 3, 1297),\n",
       " ('D90850', 32.96687, -117.24798, 13863, 1, 48, 18925.23, 'Married', 'No', 'Male', 17.08722662, 119.95684, 2164.579412, 14.91353964, 15, 2, 0, 'Yes', 'No', 'No', 552, 4, 3, 5181),\n",
       " ('K662701', 29.38012, -95.80673, 11352, 0, 83, 40074.19, 'Separated', 'Yes', 'Male', 1.670971726, 149.948316, 271.4934362, 8.147416533, 16, 2, 1, 'No', 'Yes', 'No', 371, 4, 1, 30)]"
      ]
     },
     "execution_count": 18,
     "metadata": {},
     "output_type": "execute_result"
    }
   ],
   "source": [
    "%%sql\n",
    "SELECT*\n",
    "FROM customer\n",
    "LIMIT 5;"
   ]
  },
  {
   "cell_type": "code",
   "execution_count": 19,
   "id": "1b5ee4ca",
   "metadata": {},
   "outputs": [
    {
     "name": "stdout",
     "output_type": "stream",
     "text": [
      " * sqlite:///connect_sql_jupyter.db\n",
      "Done.\n",
      "Done.\n",
      "639 rows affected.\n",
      "Done.\n"
     ]
    },
    {
     "data": {
      "text/plain": [
       "[]"
      ]
     },
     "execution_count": 19,
     "metadata": {},
     "output_type": "execute_result"
    }
   ],
   "source": [
    "\n",
    "%%sql\n",
    "\n",
    "\n",
    "ALTER TABLE job RENAME TO old_job;\n",
    "\n",
    "CREATE TABLE job\n",
    "(\n",
    "  job_id datatype [ NULL | NOT NULL ],\n",
    "  job_title datatype [ NULL | NOT NULL ],\n",
    "  CONSTRAINT job_pkey PRIMARY KEY (job_id)\n",
    ");\n",
    "\n",
    "INSERT INTO job SELECT * FROM old_job;\n",
    "\n",
    "DROP TABLE old_job;"
   ]
  },
  {
   "cell_type": "code",
   "execution_count": 20,
   "id": "1c34aa01",
   "metadata": {},
   "outputs": [],
   "source": [
    "cnn.commit()"
   ]
  },
  {
   "cell_type": "code",
   "execution_count": 21,
   "id": "205dca59",
   "metadata": {},
   "outputs": [
    {
     "name": "stdout",
     "output_type": "stream",
     "text": [
      " * sqlite:///connect_sql_jupyter.db\n",
      "Done.\n"
     ]
    },
    {
     "data": {
      "text/html": [
       "<table>\n",
       "    <tr>\n",
       "        <th>job_id</th>\n",
       "        <th>job_title</th>\n",
       "    </tr>\n",
       "    <tr>\n",
       "        <td>1</td>\n",
       "        <td>Academic librarian</td>\n",
       "    </tr>\n",
       "    <tr>\n",
       "        <td>2</td>\n",
       "        <td>Accommodation manager</td>\n",
       "    </tr>\n",
       "    <tr>\n",
       "        <td>3</td>\n",
       "        <td>Accountant- chartered</td>\n",
       "    </tr>\n",
       "    <tr>\n",
       "        <td>4</td>\n",
       "        <td>Accountant- chartered certified</td>\n",
       "    </tr>\n",
       "    <tr>\n",
       "        <td>5</td>\n",
       "        <td>Accountant- chartered management</td>\n",
       "    </tr>\n",
       "</table>"
      ],
      "text/plain": [
       "[(1, 'Academic librarian'),\n",
       " (2, 'Accommodation manager'),\n",
       " (3, 'Accountant- chartered'),\n",
       " (4, 'Accountant- chartered certified'),\n",
       " (5, 'Accountant- chartered management')]"
      ]
     },
     "execution_count": 21,
     "metadata": {},
     "output_type": "execute_result"
    }
   ],
   "source": [
    "%%sql\n",
    "\n",
    "SELECT *\n",
    "FROM job\n",
    "LIMIT 5;"
   ]
  },
  {
   "cell_type": "code",
   "execution_count": 22,
   "id": "c208c863",
   "metadata": {},
   "outputs": [
    {
     "name": "stdout",
     "output_type": "stream",
     "text": [
      " * sqlite:///connect_sql_jupyter.db\n",
      "Done.\n",
      "Done.\n",
      "8583 rows affected.\n",
      "Done.\n"
     ]
    },
    {
     "data": {
      "text/plain": [
       "[]"
      ]
     },
     "execution_count": 22,
     "metadata": {},
     "output_type": "execute_result"
    }
   ],
   "source": [
    "\n",
    "%%sql\n",
    "\n",
    "ALTER TABLE location RENAME TO old_location;\n",
    "\n",
    "CREATE TABLE location\n",
    "(\n",
    "    location_id integer NOT NULL,\n",
    "    zip integer,\n",
    "    city [ NULL | NOT NULL ] COLLATE NOCASE,\n",
    "    state [ NULL | NOT NULL ] COLLATE NOCASE,\n",
    "    county [ NULL | NOT NULL ] COLLATE NOCASE,\n",
    "    CONSTRAINT location_pkey PRIMARY KEY (location_id)\n",
    ");\n",
    "\n",
    "INSERT INTO location SELECT * FROM old_location;\n",
    "\n",
    "DROP TABLE old_location;"
   ]
  },
  {
   "cell_type": "code",
   "execution_count": 23,
   "id": "e8d194ad",
   "metadata": {},
   "outputs": [],
   "source": [
    "cnn.commit()"
   ]
  },
  {
   "cell_type": "code",
   "execution_count": 24,
   "id": "62c26db6",
   "metadata": {},
   "outputs": [
    {
     "name": "stdout",
     "output_type": "stream",
     "text": [
      " * sqlite:///connect_sql_jupyter.db\n",
      "Done.\n"
     ]
    },
    {
     "data": {
      "text/html": [
       "<table>\n",
       "    <tr>\n",
       "        <th>location_id</th>\n",
       "        <th>zip</th>\n",
       "        <th>city</th>\n",
       "        <th>state</th>\n",
       "        <th>county</th>\n",
       "    </tr>\n",
       "    <tr>\n",
       "        <td>1</td>\n",
       "        <td>601</td>\n",
       "        <td>Adjuntas</td>\n",
       "        <td>PR</td>\n",
       "        <td>Adjuntas</td>\n",
       "    </tr>\n",
       "    <tr>\n",
       "        <td>2</td>\n",
       "        <td>610</td>\n",
       "        <td>Anasco</td>\n",
       "        <td>PR</td>\n",
       "        <td>AÃ±asco</td>\n",
       "    </tr>\n",
       "    <tr>\n",
       "        <td>3</td>\n",
       "        <td>647</td>\n",
       "        <td>Ensenada</td>\n",
       "        <td>PR</td>\n",
       "        <td>GuÃ¡nica</td>\n",
       "    </tr>\n",
       "    <tr>\n",
       "        <td>4</td>\n",
       "        <td>652</td>\n",
       "        <td>Garrochales</td>\n",
       "        <td>PR</td>\n",
       "        <td>Arecibo</td>\n",
       "    </tr>\n",
       "    <tr>\n",
       "        <td>5</td>\n",
       "        <td>662</td>\n",
       "        <td>Isabela</td>\n",
       "        <td>PR</td>\n",
       "        <td>Isabela</td>\n",
       "    </tr>\n",
       "</table>"
      ],
      "text/plain": [
       "[(1, 601, 'Adjuntas', 'PR', 'Adjuntas'),\n",
       " (2, 610, 'Anasco', 'PR', 'AÃ±asco'),\n",
       " (3, 647, 'Ensenada', 'PR', 'GuÃ¡nica'),\n",
       " (4, 652, 'Garrochales', 'PR', 'Arecibo'),\n",
       " (5, 662, 'Isabela', 'PR', 'Isabela')]"
      ]
     },
     "execution_count": 24,
     "metadata": {},
     "output_type": "execute_result"
    }
   ],
   "source": [
    "%%sql\n",
    "\n",
    "SELECT *\n",
    "FROM location\n",
    "LIMIT 5;"
   ]
  },
  {
   "cell_type": "code",
   "execution_count": 25,
   "id": "d8d9bcc3",
   "metadata": {},
   "outputs": [
    {
     "name": "stdout",
     "output_type": "stream",
     "text": [
      " * sqlite:///connect_sql_jupyter.db\n",
      "Done.\n",
      "Done.\n",
      "4 rows affected.\n",
      "Done.\n"
     ]
    },
    {
     "data": {
      "text/plain": [
       "[]"
      ]
     },
     "execution_count": 25,
     "metadata": {},
     "output_type": "execute_result"
    }
   ],
   "source": [
    "\n",
    "\n",
    "%%sql\n",
    "\n",
    "ALTER TABLE payment RENAME TO old_payment;\n",
    "\n",
    "CREATE TABLE payment\n",
    "(\n",
    "    payment_id [ NULL | NOT NULL ]  NOT NULL,\n",
    "    payment_type [ NULL | NOT NULL ]  COLLATE NOCASE,\n",
    "    CONSTRAINT payment_pkey PRIMARY KEY (payment_id)\n",
    ");\n",
    "\n",
    "INSERT INTO payment SELECT * FROM old_payment;\n",
    "\n",
    "DROP TABLE old_payment;"
   ]
  },
  {
   "cell_type": "code",
   "execution_count": 26,
   "id": "ed6c2bf8",
   "metadata": {},
   "outputs": [
    {
     "name": "stdout",
     "output_type": "stream",
     "text": [
      " * sqlite:///connect_sql_jupyter.db\n",
      "Done.\n"
     ]
    },
    {
     "data": {
      "text/html": [
       "<table>\n",
       "    <tr>\n",
       "        <th>payment_id</th>\n",
       "        <th>payment_type</th>\n",
       "    </tr>\n",
       "    <tr>\n",
       "        <td>1</td>\n",
       "        <td>Bank Transfer Automatic</td>\n",
       "    </tr>\n",
       "    <tr>\n",
       "        <td>2</td>\n",
       "        <td>Credit Card Automatic</td>\n",
       "    </tr>\n",
       "    <tr>\n",
       "        <td>3</td>\n",
       "        <td>Electronic Check</td>\n",
       "    </tr>\n",
       "    <tr>\n",
       "        <td>4</td>\n",
       "        <td>Mailed Check</td>\n",
       "    </tr>\n",
       "</table>"
      ],
      "text/plain": [
       "[(1, 'Bank Transfer Automatic'),\n",
       " (2, 'Credit Card Automatic'),\n",
       " (3, 'Electronic Check'),\n",
       " (4, 'Mailed Check')]"
      ]
     },
     "execution_count": 26,
     "metadata": {},
     "output_type": "execute_result"
    }
   ],
   "source": [
    "%%sql\n",
    "\n",
    "SELECT *\n",
    "FROM payment\n",
    "LIMIT 5;"
   ]
  },
  {
   "cell_type": "markdown",
   "id": "9a5a0c80",
   "metadata": {},
   "source": [
    "# Review Data Alignment"
   ]
  },
  {
   "cell_type": "code",
   "execution_count": 27,
   "id": "849519ff",
   "metadata": {},
   "outputs": [
    {
     "name": "stdout",
     "output_type": "stream",
     "text": [
      " * sqlite:///connect_sql_jupyter.db\n",
      "Done.\n"
     ]
    },
    {
     "data": {
      "text/html": [
       "<table>\n",
       "    <tr>\n",
       "        <th>job_id</th>\n",
       "        <th>job_title</th>\n",
       "    </tr>\n",
       "    <tr>\n",
       "        <td>229</td>\n",
       "        <td>Environmental health practitioner</td>\n",
       "    </tr>\n",
       "    <tr>\n",
       "        <td>468</td>\n",
       "        <td>Programmer- multimedia</td>\n",
       "    </tr>\n",
       "    <tr>\n",
       "        <td>96</td>\n",
       "        <td>Chief Financial Officer</td>\n",
       "    </tr>\n",
       "    <tr>\n",
       "        <td>552</td>\n",
       "        <td>Solicitor</td>\n",
       "    </tr>\n",
       "    <tr>\n",
       "        <td>371</td>\n",
       "        <td>Medical illustrator</td>\n",
       "    </tr>\n",
       "</table>"
      ],
      "text/plain": [
       "[(229, 'Environmental health practitioner'),\n",
       " (468, 'Programmer- multimedia'),\n",
       " (96, 'Chief Financial Officer'),\n",
       " (552, 'Solicitor'),\n",
       " (371, 'Medical illustrator')]"
      ]
     },
     "execution_count": 27,
     "metadata": {},
     "output_type": "execute_result"
    }
   ],
   "source": [
    "%%sql\n",
    "\n",
    "SELECT customer.job_id, job.job_title\n",
    "FROM customer\n",
    "INNER JOIN job\n",
    "ON customer.job_id = job.job_id\n",
    "LIMIT 5;"
   ]
  },
  {
   "cell_type": "code",
   "execution_count": 28,
   "id": "ca6ce2e4",
   "metadata": {},
   "outputs": [
    {
     "name": "stdout",
     "output_type": "stream",
     "text": [
      " * sqlite:///connect_sql_jupyter.db\n",
      "Done.\n"
     ]
    },
    {
     "data": {
      "text/html": [
       "<table>\n",
       "    <tr>\n",
       "        <th>contract_id</th>\n",
       "        <th>duration</th>\n",
       "    </tr>\n",
       "    <tr>\n",
       "        <td>2</td>\n",
       "        <td>One year</td>\n",
       "    </tr>\n",
       "    <tr>\n",
       "        <td>1</td>\n",
       "        <td>Month-to-month</td>\n",
       "    </tr>\n",
       "    <tr>\n",
       "        <td>3</td>\n",
       "        <td>Two Year</td>\n",
       "    </tr>\n",
       "    <tr>\n",
       "        <td>3</td>\n",
       "        <td>Two Year</td>\n",
       "    </tr>\n",
       "    <tr>\n",
       "        <td>1</td>\n",
       "        <td>Month-to-month</td>\n",
       "    </tr>\n",
       "</table>"
      ],
      "text/plain": [
       "[(2, 'One year'),\n",
       " (1, 'Month-to-month'),\n",
       " (3, 'Two Year'),\n",
       " (3, 'Two Year'),\n",
       " (1, 'Month-to-month')]"
      ]
     },
     "execution_count": 28,
     "metadata": {},
     "output_type": "execute_result"
    }
   ],
   "source": [
    "%%sql\n",
    "\n",
    "SELECT customer.contract_id, contract.duration\n",
    "FROM customer\n",
    "INNER JOIN contract\n",
    "ON customer.contract_id = contract.contract_id\n",
    "LIMIT 5;"
   ]
  },
  {
   "cell_type": "markdown",
   "id": "ffe5b0d7",
   "metadata": {},
   "source": [
    "# Additional Dataset Preparation"
   ]
  },
  {
   "cell_type": "code",
   "execution_count": 29,
   "id": "61d12a0c",
   "metadata": {},
   "outputs": [],
   "source": [
    "churn_other_data = pd.DataFrame"
   ]
  },
  {
   "cell_type": "code",
   "execution_count": 30,
   "id": "224eabd3",
   "metadata": {},
   "outputs": [],
   "source": [
    "churn_other_data = pd.read_csv('internet_service_churn.csv')"
   ]
  },
  {
   "cell_type": "code",
   "execution_count": 31,
   "id": "123cc651",
   "metadata": {},
   "outputs": [
    {
     "name": "stdout",
     "output_type": "stream",
     "text": [
      "   id  is_tv_subscriber  is_movie_package_subscriber  subscription_age  \\\n",
      "0  15                 1                            0             11.95   \n",
      "1  18                 0                            0              8.22   \n",
      "2  23                 1                            0              8.91   \n",
      "3  27                 0                            0              6.87   \n",
      "4  34                 0                            0              6.39   \n",
      "\n",
      "   bill_avg  reamining_contract  service_failure_count  download_avg  \\\n",
      "0        25                0.14                      0           8.4   \n",
      "1         0                 NaN                      0           0.0   \n",
      "2        16                0.00                      0          13.7   \n",
      "3        21                 NaN                      1           0.0   \n",
      "4         0                 NaN                      0           0.0   \n",
      "\n",
      "   upload_avg  download_over_limit  churn  \n",
      "0         2.3                    0      0  \n",
      "1         0.0                    0      1  \n",
      "2         0.9                    0      1  \n",
      "3         0.0                    0      1  \n",
      "4         0.0                    0      1  \n"
     ]
    }
   ],
   "source": [
    "print (churn_other_data.head())"
   ]
  },
  {
   "cell_type": "code",
   "execution_count": 32,
   "id": "c8a7817b",
   "metadata": {
    "scrolled": true
   },
   "outputs": [
    {
     "name": "stdout",
     "output_type": "stream",
     "text": [
      "id                                 0\n",
      "is_tv_subscriber                   0\n",
      "is_movie_package_subscriber        0\n",
      "subscription_age                   0\n",
      "bill_avg                           0\n",
      "reamining_contract             21572\n",
      "service_failure_count              0\n",
      "download_avg                     381\n",
      "upload_avg                       381\n",
      "download_over_limit                0\n",
      "churn                              0\n",
      "dtype: int64\n"
     ]
    }
   ],
   "source": [
    "print(churn_other_data.isna().sum())"
   ]
  },
  {
   "cell_type": "code",
   "execution_count": 33,
   "id": "418e9b38",
   "metadata": {},
   "outputs": [],
   "source": [
    "churn_other_data[['reamining_contract','download_avg','upload_avg']]= churn_other_data[['reamining_contract','download_avg','upload_avg']].fillna(value=0)"
   ]
  },
  {
   "cell_type": "code",
   "execution_count": 34,
   "id": "3fd699e7",
   "metadata": {},
   "outputs": [
    {
     "name": "stdout",
     "output_type": "stream",
     "text": [
      "id                             0\n",
      "is_tv_subscriber               0\n",
      "is_movie_package_subscriber    0\n",
      "subscription_age               0\n",
      "bill_avg                       0\n",
      "reamining_contract             0\n",
      "service_failure_count          0\n",
      "download_avg                   0\n",
      "upload_avg                     0\n",
      "download_over_limit            0\n",
      "churn                          0\n",
      "dtype: int64\n"
     ]
    }
   ],
   "source": [
    "print(churn_other_data.isna().sum())"
   ]
  },
  {
   "cell_type": "code",
   "execution_count": 35,
   "id": "ff415c42",
   "metadata": {},
   "outputs": [
    {
     "name": "stdout",
     "output_type": "stream",
     "text": [
      "   id  is_tv_subscriber  is_movie_package_subscriber  subscription_age  \\\n",
      "0  15                 1                            0             11.95   \n",
      "1  18                 0                            0              8.22   \n",
      "2  23                 1                            0              8.91   \n",
      "3  27                 0                            0              6.87   \n",
      "4  34                 0                            0              6.39   \n",
      "\n",
      "   bill_avg  reamining_contract  service_failure_count  download_avg  \\\n",
      "0        25                0.14                      0           8.4   \n",
      "1         0                0.00                      0           0.0   \n",
      "2        16                0.00                      0          13.7   \n",
      "3        21                0.00                      1           0.0   \n",
      "4         0                0.00                      0           0.0   \n",
      "\n",
      "   upload_avg  download_over_limit churn  \n",
      "0         2.3                    0    No  \n",
      "1         0.0                    0   Yes  \n",
      "2         0.9                    0   Yes  \n",
      "3         0.0                    0   Yes  \n",
      "4         0.0                    0   Yes  \n"
     ]
    }
   ],
   "source": [
    "churn_other_data['churn']=churn_other_data['churn'].astype(str)\n",
    "churn_other_data['churn']=churn_other_data['churn'].replace(['1'],'Yes')\n",
    "churn_other_data['churn']=churn_other_data['churn'].replace(['0'],'No')\n",
    "print (churn_other_data.head())"
   ]
  },
  {
   "cell_type": "code",
   "execution_count": 36,
   "id": "37fe8736",
   "metadata": {},
   "outputs": [],
   "source": [
    "churn_other_data['Number of Services'] = churn_other_data['is_tv_subscriber'] + churn_other_data['is_movie_package_subscriber']"
   ]
  },
  {
   "cell_type": "code",
   "execution_count": 37,
   "id": "f5c1bfa8",
   "metadata": {},
   "outputs": [
    {
     "name": "stdout",
     "output_type": "stream",
     "text": [
      "   id  is_tv_subscriber  is_movie_package_subscriber  subscription_age  \\\n",
      "0  15                 1                            0             11.95   \n",
      "1  18                 0                            0              8.22   \n",
      "2  23                 1                            0              8.91   \n",
      "3  27                 0                            0              6.87   \n",
      "4  34                 0                            0              6.39   \n",
      "\n",
      "   bill_avg  reamining_contract  service_failure_count  download_avg  \\\n",
      "0        25                0.14                      0           8.4   \n",
      "1         0                0.00                      0           0.0   \n",
      "2        16                0.00                      0          13.7   \n",
      "3        21                0.00                      1           0.0   \n",
      "4         0                0.00                      0           0.0   \n",
      "\n",
      "   upload_avg  download_over_limit churn  Number of Services  \n",
      "0         2.3                    0    No                   1  \n",
      "1         0.0                    0   Yes                   0  \n",
      "2         0.9                    0   Yes                   1  \n",
      "3         0.0                    0   Yes                   0  \n",
      "4         0.0                    0   Yes                   0  \n"
     ]
    }
   ],
   "source": [
    "print (churn_other_data.head())"
   ]
  },
  {
   "cell_type": "code",
   "execution_count": 38,
   "id": "cfda7dd9",
   "metadata": {},
   "outputs": [
    {
     "name": "stderr",
     "output_type": "stream",
     "text": [
      "C:\\ProgramData\\Anaconda3\\lib\\site-packages\\pandas\\core\\generic.py:2872: UserWarning: The spaces in these column names will not be changed. In pandas versions < 0.14, spaces were converted to underscores.\n",
      "  sql.to_sql(\n"
     ]
    }
   ],
   "source": [
    "churn_other_data.to_sql('internet_churn', cnn)"
   ]
  },
  {
   "cell_type": "code",
   "execution_count": 39,
   "id": "2595bb3e",
   "metadata": {},
   "outputs": [
    {
     "name": "stdout",
     "output_type": "stream",
     "text": [
      " * sqlite:///connect_sql_jupyter.db\n",
      "Done.\n"
     ]
    },
    {
     "data": {
      "text/html": [
       "<table>\n",
       "    <tr>\n",
       "        <th>index</th>\n",
       "        <th>id</th>\n",
       "        <th>is_tv_subscriber</th>\n",
       "        <th>is_movie_package_subscriber</th>\n",
       "        <th>subscription_age</th>\n",
       "        <th>bill_avg</th>\n",
       "        <th>reamining_contract</th>\n",
       "        <th>service_failure_count</th>\n",
       "        <th>download_avg</th>\n",
       "        <th>upload_avg</th>\n",
       "        <th>download_over_limit</th>\n",
       "        <th>churn</th>\n",
       "        <th>Number of Services</th>\n",
       "    </tr>\n",
       "    <tr>\n",
       "        <td>0</td>\n",
       "        <td>15</td>\n",
       "        <td>1</td>\n",
       "        <td>0</td>\n",
       "        <td>11.95</td>\n",
       "        <td>25</td>\n",
       "        <td>0.14</td>\n",
       "        <td>0</td>\n",
       "        <td>8.4</td>\n",
       "        <td>2.3</td>\n",
       "        <td>0</td>\n",
       "        <td>No</td>\n",
       "        <td>1</td>\n",
       "    </tr>\n",
       "    <tr>\n",
       "        <td>1</td>\n",
       "        <td>18</td>\n",
       "        <td>0</td>\n",
       "        <td>0</td>\n",
       "        <td>8.22</td>\n",
       "        <td>0</td>\n",
       "        <td>0.0</td>\n",
       "        <td>0</td>\n",
       "        <td>0.0</td>\n",
       "        <td>0.0</td>\n",
       "        <td>0</td>\n",
       "        <td>Yes</td>\n",
       "        <td>0</td>\n",
       "    </tr>\n",
       "    <tr>\n",
       "        <td>2</td>\n",
       "        <td>23</td>\n",
       "        <td>1</td>\n",
       "        <td>0</td>\n",
       "        <td>8.91</td>\n",
       "        <td>16</td>\n",
       "        <td>0.0</td>\n",
       "        <td>0</td>\n",
       "        <td>13.7</td>\n",
       "        <td>0.9</td>\n",
       "        <td>0</td>\n",
       "        <td>Yes</td>\n",
       "        <td>1</td>\n",
       "    </tr>\n",
       "    <tr>\n",
       "        <td>3</td>\n",
       "        <td>27</td>\n",
       "        <td>0</td>\n",
       "        <td>0</td>\n",
       "        <td>6.87</td>\n",
       "        <td>21</td>\n",
       "        <td>0.0</td>\n",
       "        <td>1</td>\n",
       "        <td>0.0</td>\n",
       "        <td>0.0</td>\n",
       "        <td>0</td>\n",
       "        <td>Yes</td>\n",
       "        <td>0</td>\n",
       "    </tr>\n",
       "    <tr>\n",
       "        <td>4</td>\n",
       "        <td>34</td>\n",
       "        <td>0</td>\n",
       "        <td>0</td>\n",
       "        <td>6.39</td>\n",
       "        <td>0</td>\n",
       "        <td>0.0</td>\n",
       "        <td>0</td>\n",
       "        <td>0.0</td>\n",
       "        <td>0.0</td>\n",
       "        <td>0</td>\n",
       "        <td>Yes</td>\n",
       "        <td>0</td>\n",
       "    </tr>\n",
       "</table>"
      ],
      "text/plain": [
       "[(0, 15, 1, 0, 11.95, 25, 0.14, 0, 8.4, 2.3, 0, 'No', 1),\n",
       " (1, 18, 0, 0, 8.22, 0, 0.0, 0, 0.0, 0.0, 0, 'Yes', 0),\n",
       " (2, 23, 1, 0, 8.91, 16, 0.0, 0, 13.7, 0.9, 0, 'Yes', 1),\n",
       " (3, 27, 0, 0, 6.87, 21, 0.0, 1, 0.0, 0.0, 0, 'Yes', 0),\n",
       " (4, 34, 0, 0, 6.39, 0, 0.0, 0, 0.0, 0.0, 0, 'Yes', 0)]"
      ]
     },
     "execution_count": 39,
     "metadata": {},
     "output_type": "execute_result"
    }
   ],
   "source": [
    "%%sql\n",
    "\n",
    "SELECT *\n",
    "FROM internet_churn\n",
    "LIMIT 5;"
   ]
  },
  {
   "cell_type": "code",
   "execution_count": 40,
   "id": "86012bc0",
   "metadata": {},
   "outputs": [
    {
     "name": "stdout",
     "output_type": "stream",
     "text": [
      " * sqlite:///connect_sql_jupyter.db\n",
      "Done.\n"
     ]
    },
    {
     "data": {
      "text/html": [
       "<table>\n",
       "    <tr>\n",
       "        <th>churn</th>\n",
       "        <th>churn_1</th>\n",
       "    </tr>\n",
       "    <tr>\n",
       "        <td>No</td>\n",
       "        <td>No</td>\n",
       "    </tr>\n",
       "    <tr>\n",
       "        <td>No</td>\n",
       "        <td>No</td>\n",
       "    </tr>\n",
       "    <tr>\n",
       "        <td>No</td>\n",
       "        <td>No</td>\n",
       "    </tr>\n",
       "    <tr>\n",
       "        <td>No</td>\n",
       "        <td>No</td>\n",
       "    </tr>\n",
       "    <tr>\n",
       "        <td>No</td>\n",
       "        <td>No</td>\n",
       "    </tr>\n",
       "</table>"
      ],
      "text/plain": [
       "[('No', 'No'), ('No', 'No'), ('No', 'No'), ('No', 'No'), ('No', 'No')]"
      ]
     },
     "execution_count": 40,
     "metadata": {},
     "output_type": "execute_result"
    }
   ],
   "source": [
    "%%sql\n",
    "\n",
    "SELECT customer.churn, internet_churn.churn\n",
    "FROM customer\n",
    "INNER JOIN internet_churn\n",
    "ON customer.churn = internet_churn.churn\n",
    "LIMIT 5;"
   ]
  },
  {
   "cell_type": "code",
   "execution_count": 41,
   "id": "fe8e6ac2",
   "metadata": {},
   "outputs": [
    {
     "name": "stdout",
     "output_type": "stream",
     "text": [
      " * sqlite:///connect_sql_jupyter.db\n",
      "Done.\n"
     ]
    },
    {
     "data": {
      "text/html": [
       "<table>\n",
       "    <tr>\n",
       "        <th>COUNT(customer.churn)</th>\n",
       "    </tr>\n",
       "    <tr>\n",
       "        <td>2650</td>\n",
       "    </tr>\n",
       "</table>"
      ],
      "text/plain": [
       "[(2650,)]"
      ]
     },
     "execution_count": 41,
     "metadata": {},
     "output_type": "execute_result"
    }
   ],
   "source": [
    "%%sql\n",
    "\n",
    "SELECT COUNT(customer.churn)\n",
    "FROM customer\n",
    "WHERE churn = 'yes' OR churn ='Yes';"
   ]
  },
  {
   "cell_type": "code",
   "execution_count": 42,
   "id": "e1b7497d",
   "metadata": {},
   "outputs": [
    {
     "name": "stdout",
     "output_type": "stream",
     "text": [
      " * sqlite:///connect_sql_jupyter.db\n",
      "Done.\n"
     ]
    },
    {
     "data": {
      "text/html": [
       "<table>\n",
       "    <tr>\n",
       "        <th>COUNT(internet_churn.churn)</th>\n",
       "    </tr>\n",
       "    <tr>\n",
       "        <td>40050</td>\n",
       "    </tr>\n",
       "</table>"
      ],
      "text/plain": [
       "[(40050,)]"
      ]
     },
     "execution_count": 42,
     "metadata": {},
     "output_type": "execute_result"
    }
   ],
   "source": [
    "%%sql\n",
    "\n",
    "SELECT COUNT(internet_churn.churn)\n",
    "FROM internet_churn\n",
    "WHERE churn = 'yes' OR churn ='Yes';"
   ]
  },
  {
   "cell_type": "markdown",
   "id": "bb8410d0",
   "metadata": {},
   "source": [
    "# Database Export"
   ]
  },
  {
   "cell_type": "code",
   "execution_count": 43,
   "id": "4c51ac2f",
   "metadata": {},
   "outputs": [],
   "source": [
    "contract_sql = pd.read_sql('SELECT * FROM contract', cnn, index_col = 'contract_id')\n",
    "customer_sql = pd.read_sql('SELECT * FROM customer', cnn, index_col = 'customer_id')\n",
    "location_sql = pd.read_sql('SELECT * FROM location', cnn, index_col = 'location_id')\n",
    "job_sql = pd.read_sql('SELECT * FROM job', cnn, index_col = 'job_id')\n",
    "payment_sql = pd.read_sql('SELECT * FROM payment', cnn, index_col = 'payment_id')\n",
    "internet_churn_sql = pd.read_sql('SELECT * FROM internet_churn', cnn, index_col = 'id')"
   ]
  },
  {
   "cell_type": "code",
   "execution_count": 44,
   "id": "42957f1d",
   "metadata": {},
   "outputs": [],
   "source": [
    "contract_sql.to_csv('data/contract.csv')\n",
    "customer_sql.to_csv('data/customer.csv')\n",
    "location_sql.to_csv('data/location.csv')\n",
    "job_sql.to_csv('data/job.csv')\n",
    "payment_sql.to_csv('data/payment.csv')\n",
    "internet_churn_sql.to_csv('data/internet_churn.csv')"
   ]
  },
  {
   "cell_type": "code",
   "execution_count": null,
   "id": "c11c205d",
   "metadata": {},
   "outputs": [],
   "source": []
  }
 ],
 "metadata": {
  "kernelspec": {
   "display_name": "Python 3 (ipykernel)",
   "language": "python",
   "name": "python3"
  },
  "language_info": {
   "codemirror_mode": {
    "name": "ipython",
    "version": 3
   },
   "file_extension": ".py",
   "mimetype": "text/x-python",
   "name": "python",
   "nbconvert_exporter": "python",
   "pygments_lexer": "ipython3",
   "version": "3.8.8"
  }
 },
 "nbformat": 4,
 "nbformat_minor": 5
}
